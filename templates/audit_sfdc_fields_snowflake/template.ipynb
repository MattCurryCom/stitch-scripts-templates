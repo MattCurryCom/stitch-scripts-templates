{
  "cells": [
    {
      "cell_type": "markdown",
      "metadata": {},
      "source": [
        "# Audit SFDC data's schema in Snowflake\n",
        "\n",
        "Compares an object's fields in SFDC to the columns for the object in the Snowflake data warehouse. If fields exist in SFDC but do not exist in the data warehouse, checks SFDC to see whether the missing fields contain data. If the missing fields contain data in SFDC, reports the problem fields along with record id examples for investigation."
      ]
    },
    {
      "cell_type": "code",
      "execution_count": null,
      "metadata": {},
      "outputs": [],
      "source": [
        "import requests\n",
        "import json\n",
        "import pprint as pp\n",
        "import pandas as pd"
      ]
    },
    {
      "cell_type": "code",
      "execution_count": null,
      "metadata": {},
      "outputs": [],
      "source": [
        "conn = stitch_context.connections['Default Warehouse']['client']\n",
        "cur = conn.cursor()\n",
        "\n",
        "sf = stitch_context.connections['salesforce_dev']['client']\n",
        "\n",
        "# replace table path with relevant table path from your data warehouse\n",
        "\n",
        "table_path = 'database.schema.table'\n",
        "\n",
        "resultset = cur.execute('select * from {}'.format(table_path)).fetchall()\n",
        "df = pd.DataFrame(resultset)\n",
        "df"
      ]
    },
    {
      "cell_type": "code",
      "execution_count": null,
      "metadata": {},
      "outputs": [],
      "source": [
        "# get column names from your data warehouse\n",
        "\n",
        "table_def = cur.execute('desc table {} type = columns'.format(table_path)).fetchall()\n",
        "dw_field_names = [x[0] for x in table_def]\n",
        "\n",
        "df = pd.DataFrame(dw_field_names)\n",
        "df"
      ]
    },
    {
      "cell_type": "code",
      "execution_count": null,
      "metadata": {},
      "outputs": [],
      "source": [
        "# replace \"Opportunity\" with relevant object name from SFDC\n",
        "\n",
        "object_desc = sf.Opportunity.describe()['fields']\n",
        "\n",
        "sf_field_names = [(x['name'].upper(), x['name']) for x in object_desc]\n",
        "\n",
        "df = pd.DataFrame([x[0] for x in sf_field_names])\n",
        "df"
      ]
    },
    {
      "cell_type": "code",
      "execution_count": null,
      "metadata": {},
      "outputs": [],
      "source": [
        "# create a list of fields that exist in SFDC but do not exist in the warehouse\n",
        "# use the proper SFDC field name in the list\n",
        "\n",
        "field_diff = list(set([x[0] for x in sf_field_names]) - set(dw_field_names))\n",
        "\n",
        "field_diff_proper = [x[1] for x in sf_field_names if x[0] in field_diff]\n",
        "\n",
        "if len(field_diff_proper) > 0:\n",
        "    log.info(\"\"\"\n",
        "    The following fields exist in SFDC but do not exist in your warehouse.\n",
        "    Checking whether these fields contain data to replicate. '\n",
        "    \"\"\" + str(field_diff_proper))"
      ]
    },
    {
      "cell_type": "code",
      "execution_count": null,
      "metadata": {},
      "outputs": [],
      "source": [
        "# query SFDC to check whether there's data in any of the fields that are missing from the warehouse\n",
        "# if data exists in SFDC for these fields, add them to a list called \"misssing_field_report\"\n",
        "\n",
        "missing_field_report = []\n",
        "\n",
        "for field in field_diff_proper: \n",
        "    \n",
        "    # we can't use SOQL to filter on longform field types, like 'Description'\n",
        "    # so we have to filter the results instead\n",
        "    \n",
        "    sf_query = \"SELECT Id, {} FROM Opportunity\".format(field)\n",
        "    results = sf.query(sf_query)['records']\n",
        "\n",
        "    missing_results = [x for x in results if x[field] is not None]\n",
        "    \n",
        "    if len(missing_results) > 0:\n",
        "        record_ids = [x['Id'] for x in missing_results]\n",
        "        missing_field_report.append({'field':field, 'records':record_ids})\n",
        "    else:\n",
        "        log.info('Field `{}` does not contain any data to replicate.'.format(field))\n",
        "\n",
        "# log if there are field discrepancies\n",
        "\n",
        "if len(missing_field_report) > 0:\n",
        "    log.info(\"\"\"\n",
        "    The following fields have data in SFDC, but are missing from your warehouse.\n",
        "    Here are the fields and example record Ids:\n",
        "    \"\"\" + missing_field_report)"
      ]
    },
    {
      "cell_type": "code",
      "execution_count": null,
      "metadata": {},
      "outputs": [],
      "source": []
    },
    {
      "cell_type": "code",
      "execution_count": null,
      "metadata": {},
      "outputs": [],
      "source": []
    }
  ],
  "metadata": {},
  "nbformat": 4,
  "nbformat_minor": 1
}
