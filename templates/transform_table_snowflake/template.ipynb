{
  "cells": [
    {
      "cell_type": "markdown",
      "metadata": {},
      "source": [
        "# Transform a table in Snowflake\n",
        "\n",
        "Aggregate data from a given table into a new table using CREATE OR REPLACE TABLE AS. When this script is run, it will create a new table if one does not exist or replace the existing table."
      ]
    },
    {
      "cell_type": "code",
      "execution_count": null,
      "metadata": {},
      "outputs": [],
      "source": [
        "conn = stitch_context.connections['Default Warehouse']['client']\n",
        "cur = conn.cursor()"
      ]
    },
    {
      "cell_type": "code",
      "execution_count": null,
      "metadata": {},
      "outputs": [],
      "source": [
        "try:\n",
        "    cur.execute(\n",
        "        \"\"\"\n",
        "        CREATE OR REPLACE TABLE chicken.burger.daily_14_agg AS\n",
        "        SELECT\n",
        "            count(*) as total\n",
        "        FROM\n",
        "            snowflake_sample_data.weather.daily_14_total\n",
        "        \"\"\"\n",
        "    )\n",
        "    log.info('Created aggregate table.')\n",
        "except Exception as e:\n",
        "    log.error(e)\n",
        "finally:\n",
        "    log.info('Closing connection.')\n",
        "    cur.close()"
      ]
    },
    {
      "cell_type": "code",
      "execution_count": null,
      "metadata": {},
      "outputs": [],
      "source": []
    }
  ],
  "metadata": {},
  "nbformat": 4,
  "nbformat_minor": 1
}
