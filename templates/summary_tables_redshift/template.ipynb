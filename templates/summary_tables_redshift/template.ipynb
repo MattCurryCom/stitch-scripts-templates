{
  "cells": [
    {
      "cell_type": "markdown",
      "metadata": {},
      "source": [
        "# Create summary tables in Redshift\n",
        "\n",
        "Replaces or creates a new view in Redshift with a query built across tables. Can be run at regular intervals or after data loads in order to refresh data models."
      ]
    },
    {
      "cell_type": "code",
      "execution_count": null,
      "metadata": {},
      "outputs": [],
      "source": [
        "import psycopg2\n",
        "import psycopg2.extras"
      ]
    },
    {
      "cell_type": "code",
      "execution_count": null,
      "metadata": {},
      "outputs": [],
      "source": [
        "conn = stitch_context.connections['Default Warehouse']['client']\n",
        "cur = conn.cursor(cursor_factory=psycopg2.extras.RealDictCursor)"
      ]
    },
    {
      "cell_type": "code",
      "execution_count": null,
      "metadata": {},
      "outputs": [],
      "source": [
        "# build command to create a new table\n",
        "# use CREATE OR REPLACE VIEW name AS in order to avoid conflicts when trying to replace data\n",
        "# https://docs.aws.amazon.com/redshift/latest/dg/r_CREATE_VIEW.html\n",
        "\n",
        "create_table = \"\"\"\n",
        "create or replace view build_summary_table as (\n",
        "  with a as (\n",
        "    select\n",
        "      cid as primary_key\n",
        "    from\n",
        "      schema_a.table_a\n",
        "    limit 100),\n",
        "  b as (\n",
        "    select\n",
        "      client_id as foreign_key,\n",
        "      count(*) as total\n",
        "    from\n",
        "      schema_b.table_b\n",
        "    group by\n",
        "      1\n",
        "    order by\n",
        "      2 desc),\n",
        "    c as (\n",
        "      select\n",
        "        a.*,\n",
        "        nvl (b.total,\n",
        "          0) as total\n",
        "      from\n",
        "        a\n",
        "      left join b on a.primary_key = b.foreign_key\n",
        ")\n",
        "  select\n",
        "    total,\n",
        "    count(*)\n",
        "  from\n",
        "    c\n",
        "  group by\n",
        "    1\n",
        ");\n",
        "\"\"\""
      ]
    },
    {
      "cell_type": "code",
      "execution_count": null,
      "metadata": {},
      "outputs": [],
      "source": [
        "# execute command to create a new table\n",
        "try:\n",
        "    cur.execute(create_table)\n",
        "    log.info('Successfully executed CREATE TABLE AS command')\n",
        "\n",
        "# make the changes to the database persistent\n",
        "    conn.commit()\n",
        "    log.info('Successfully committed changes to the database')\n",
        "\n",
        "finally:\n",
        "    cur.close()\n",
        "    conn.close()"
      ]
    },
    {
      "cell_type": "code",
      "execution_count": null,
      "metadata": {},
      "outputs": [],
      "source": []
    }
  ],
  "metadata": {},
  "nbformat": 4,
  "nbformat_minor": 1
}
