{
 "cells": [
  {
   "cell_type": "markdown",
   "metadata": {},
   "source": [
    "# Excecute on specific table loads\n",
    "\n",
    "Demonstrates performing work only when certain tables have loaded."
   ]
  },
  {
   "cell_type": "code",
   "execution_count": null,
   "metadata": {},
   "outputs": [],
   "source": [
    "import json\n",
    "\n",
    "log.info(json.dumps(stitch_context.tables_loaded, indent=2))"
   ]
  },
  {
   "cell_type": "code",
   "execution_count": null,
   "metadata": {},
   "outputs": [],
   "source": [
    "# run this script only for the following integrations and tables within them\n",
    "\n",
    "accepted_tables = {\"integration_0\": [\"table_1\", \"table_98\"],\n",
    "                   \"integration_1\": [\"table_2\"]}\n",
    "\n",
    "a = stitch_context.tables_loaded\n",
    "b = accepted_tables\n",
    "\n",
    "included_tables = {k: list(set(a[k]) & set(b[k])) for k in a if k in b}\n",
    "\n",
    "log.info('Running Script with the following tables: ' + json.dumps(included_tables, indent=2))\n",
    "\n",
    "for integration in included_tables:\n",
    "    for table in included_tables[integration]:\n",
    "        log.info(\"Doing work for {}.{}\".format(integration, table))"
   ]
  }
 ],
 "metadata": {
  "kernelspec": {
   "display_name": "Python 3",
   "language": "python",
   "name": "python3"
  },
  "language_info": {
   "codemirror_mode": {
    "name": "ipython",
    "version": 3
   },
   "file_extension": ".py",
   "mimetype": "text/x-python",
   "name": "python",
   "nbconvert_exporter": "python",
   "pygments_lexer": "ipython3",
   "version": "3.5.2"
  }
 },
 "nbformat": 4,
 "nbformat_minor": 1
}
