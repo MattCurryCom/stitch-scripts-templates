{
  "cells": [
    {
      "cell_type": "markdown",
      "metadata": {},
      "source": [
        "# Flatten nested data in Snowflake\n",
        "\n",
        "Flattens top-level elements of a VARIANT, OBJECT, or ARRAY field from a table into subtables. Creates new tables or replaces existing tables."
      ]
    },
    {
      "cell_type": "code",
      "execution_count": null,
      "metadata": {},
      "outputs": [],
      "source": [
        "conn = stitch_context.connections['Default Warehouse']['client']\n",
        "cur = conn.cursor()"
      ]
    },
    {
      "cell_type": "code",
      "execution_count": null,
      "metadata": {},
      "outputs": [],
      "source": [
        "# replace these variables\n",
        "source_schema = 'chicken.trel'\n",
        "source_table = 'trello_cards'\n",
        "source_variant_field = 'badges'\n",
        "\n",
        "dest_schema = 'chicken.burger'"
      ]
    },
    {
      "cell_type": "code",
      "execution_count": null,
      "metadata": {},
      "outputs": [],
      "source": [
        "try:\n",
        "    \n",
        "# get all keys from the source variant field\n",
        "\n",
        "# note: you may specify optional arguments to the FLATTEN function\n",
        "# to specify how the data is flattened\n",
        "# see: https://docs.snowflake.net/manuals/sql-reference/functions/flatten.html\n",
        "    \n",
        "    cur.execute(\n",
        "        \"\"\"\n",
        "        select distinct key from {}.{},\n",
        "        lateral flatten(input => parse_json({})) f;\n",
        "        \"\"\".format(source_schema, source_table, source_variant_field)\n",
        "    )\n",
        "    \n",
        "    result = cur.fetchall()\n",
        "    \n",
        "# create a separate table for all keys included in the source variant field\n",
        "\n",
        "# definitions:\n",
        "#   SEQ:   A unique sequence number associated with the input record; the\n",
        "#          sequence is not guaranteed to be gap-free or ordered in any\n",
        "#          particular way.\n",
        "#   KEY:   For maps or objects, this column contains the key to the exploded\n",
        "#          value.\n",
        "#   PATH:  The path to the element within a data structure which needs to be\n",
        "#          flattened.\n",
        "#   INDEX: The index of the element, if it is an array; otherwise NULL.\n",
        "#   VALUE: The value of the element of the flattened array/object.\n",
        "#   THIS:  The element being flattened (useful in recursive flattening).\n",
        "\n",
        "    for row in result:\n",
        "\n",
        "        key = row[0]\n",
        "        cur.execute(\n",
        "            \"\"\"\n",
        "            create or replace table {}.{}__{} as\n",
        "                select id as source_key_id, seq, path, index, value, this\n",
        "                from {}.{},\n",
        "            lateral flatten(input => parse_json({})) f where key = '{}';\n",
        "            \"\"\".format(\n",
        "                dest_schema,\n",
        "                source_table,\n",
        "                key,\n",
        "                source_schema,\n",
        "                source_table,\n",
        "                source_variant_field,\n",
        "                key,\n",
        "            )\n",
        "        )\n",
        "        \n",
        "        log.info(\n",
        "            \"\"\"\n",
        "            Successfully created {}.{}__{} table.\n",
        "            \"\"\".format(dest_schema, source_table, key)\n",
        "        )\n",
        "    \n",
        "except Exception as e:\n",
        "    log.error(e)\n",
        "finally:\n",
        "    log.info(\"Closing connection.\")\n",
        "    cur.close()"
      ]
    },
    {
      "cell_type": "code",
      "execution_count": null,
      "metadata": {},
      "outputs": [],
      "source": []
    }
  ],
  "metadata": {},
  "nbformat": 4,
  "nbformat_minor": 1
}
