{
  "cells": [
    {
      "cell_type": "markdown",
      "metadata": {},
      "source": [
        "# Make an API request\n",
        "\n",
        "Use the [`requests`](http://docs.python-requests.org/en/master/) library to interact with an API over HTTP."
      ]
    },
    {
      "cell_type": "code",
      "execution_count": null,
      "metadata": {},
      "outputs": [],
      "source": [
        "import json\n",
        "\n",
        "for i in range(1, 4):\n",
        "    r = requests.get(\"https://jsonplaceholder.typicode.com/todos/{}\".format(i))\n",
        "    log.info(json.dumps(r.json(), indent=2))"
      ]
    },
    {
      "cell_type": "code",
      "execution_count": null,
      "metadata": {},
      "outputs": [],
      "source": []
    }
  ],
  "metadata": {},
  "nbformat": 4,
  "nbformat_minor": 1
}
