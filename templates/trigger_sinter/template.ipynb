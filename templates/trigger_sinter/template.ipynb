{
  "cells": [
    {
      "cell_type": "markdown",
      "metadata": {},
      "source": [
        "# Trigger a Sinter job run\n",
        "\n",
        "Trigger a Sinter job to run. If your Script is scheduled to run after data loads into your warehouse, you can coordinate the Script's accepted tables with the dbt commands for the job you are running."
      ]
    },
    {
      "cell_type": "code",
      "execution_count": null,
      "metadata": {},
      "outputs": [],
      "source": [
        "# replace with your Sinter account details\n",
        "# Sinter's API requires a paid account\n",
        "# reach out to Sinter support for an API key\n",
        "\n",
        "sinter_api_key = 'API-KEY'\n",
        "sinter_account_id = 'ACCOUNT-ID'\n",
        "sinter_project_id = 'PROJECT-ID'\n",
        "sinter_job_def_id = 'JOB-DEF-ID'\n",
        "\n",
        "headers = {'Authorization':'Token ' + sinter_api_key, 'Content-Type':'application/json'}\n",
        "base_url = 'https://app.sinterdata.com/api/v1/accounts'\n",
        "\n",
        "# kick off a pre-defined Sinter job\n",
        "\n",
        "url = \"{}/{}/projects/{}/definitions/{}/runs/\".format(base_url,\n",
        "                                                      sinter_account_id,\n",
        "                                                      sinter_project_id,\n",
        "                                                      sinter_job_def_id)\n",
        "\n",
        "r = requests.post(url, headers=headers)"
      ]
    }
  ],
  "metadata": {},
  "nbformat": 4,
  "nbformat_minor": 1
}
