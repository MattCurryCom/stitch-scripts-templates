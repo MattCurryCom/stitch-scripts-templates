{
  "cells": [
    {
      "cell_type": "markdown",
      "metadata": {},
      "source": [
        "# Add sort and dist keys to Redshift\n",
        "\n",
        "Rebuilds an existing table with sort and dist key definitions, preserving table comments. While the table is rebuilt, copies existing data from the table into a temporary table. After the keys are defined on the new table, loads data from the temporary table back into the new table. Transfers ownership of the new table to the Stitch user. Drops temporary table."
      ]
    },
    {
      "cell_type": "code",
      "execution_count": null,
      "metadata": {},
      "outputs": [],
      "source": [
        "import psycopg2\n",
        "import psycopg2.extras"
      ]
    },
    {
      "cell_type": "code",
      "execution_count": null,
      "metadata": {},
      "outputs": [],
      "source": [
        "conn = stitch_context.connections['Default Warehouse']['client']\n",
        "cur = conn.cursor(cursor_factory=psycopg2.extras.RealDictCursor)"
      ]
    },
    {
      "cell_type": "code",
      "execution_count": null,
      "metadata": {},
      "outputs": [],
      "source": [
        "# replace these values\n",
        "schema = 'trello_ft_test'\n",
        "table = 'trello_actions'\n",
        "dist_key = 'date'\n",
        "sort_key = 'id'\n",
        "stitch_user = 'stitch_user'"
      ]
    },
    {
      "cell_type": "code",
      "execution_count": null,
      "metadata": {},
      "outputs": [],
      "source": [
        "# set search path\n",
        "search_path = cur.execute(\"set search_path to {}\".format(schema))"
      ]
    },
    {
      "cell_type": "code",
      "execution_count": null,
      "metadata": {},
      "outputs": [],
      "source": [
        "# get table definition\n",
        "cur.execute(\n",
        "    \"\"\"\n",
        "    select a.column, a.type\n",
        "    from pg_table_def a\n",
        "    where schemaname = '{}'\n",
        "        and tablename = '{}'\n",
        "    \"\"\".format(schema, table)\n",
        ")\n",
        "columns = ', '.join(['{} {}'.format(row['column'], row['type']) for row in cur])"
      ]
    },
    {
      "cell_type": "code",
      "execution_count": null,
      "metadata": {},
      "outputs": [],
      "source": [
        " # get table comment (primary key def)\n",
        "cur.execute(\n",
        "    \"\"\"\n",
        "    select description\n",
        "    from pg_catalog.pg_description\n",
        "    where objoid = (select oid\n",
        "                    from pg_class\n",
        "                    where relname = '{}'\n",
        "                        and relnamespace = (select oid\n",
        "                                            from pg_catalog.pg_namespace\n",
        "                                            where nspname = '{}'))\n",
        "    \"\"\".format(table, schema)\n",
        ")\n",
        "\n",
        "rec = cur.fetchone()\n",
        "\n",
        "primary_key = rec['description']"
      ]
    },
    {
      "cell_type": "code",
      "execution_count": null,
      "metadata": {},
      "outputs": [],
      "source": [
        "try:\n",
        "    # alter table\n",
        "    cur.execute(\"alter table {} rename to old_{}\".format(table, table))\n",
        "    # create table\n",
        "    cur.execute(\"create table new_{} ({}) distkey ({}) sortkey ({})\".format(\n",
        "        table,\n",
        "        columns,\n",
        "        dist_key,\n",
        "        sort_key\n",
        "    ))\n",
        "    # insert\n",
        "    cur.execute(\"insert into new_{} (select * from old_{})\".format(table, table))\n",
        "    # comment\n",
        "    cur.execute(\"comment on table new_{} is '{}'\".format(table, primary_key))\n",
        "    # rename\n",
        "    cur.execute(\"alter table new_{} rename to {}\".format(table, table))\n",
        "    # grant\n",
        "    cur.execute(\"alter table {} owner to {}\".format(table, stitch_user))\n",
        "    # drop\n",
        "    cur.execute(\"drop table old_{}\".format(table))\n",
        "    \n",
        "finally:\n",
        "    cur.close()\n",
        "\n",
        "conn.close()"
      ]
    },
    {
      "cell_type": "code",
      "execution_count": null,
      "metadata": {},
      "outputs": [],
      "source": []
    }
  ],
  "metadata": {},
  "nbformat": 4,
  "nbformat_minor": 1
}
